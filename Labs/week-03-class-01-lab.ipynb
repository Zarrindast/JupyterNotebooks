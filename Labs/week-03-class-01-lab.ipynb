{
 "cells": [
  {
   "cell_type": "markdown",
   "metadata": {},
   "source": [
    "<div style=\"background: #000;\n",
    "            color: #FFF;\n",
    "            margin: 0px;\n",
    "                padding: 10px 0px 20px 0px;\n",
    "            text-align: center; \n",
    "                \">\n",
    "    <h1>Week 3 - Class 1 - Lab</h1>\n",
    "</div>\n"
   ]
  },
  {
   "cell_type": "markdown",
   "metadata": {},
   "source": [
    "# Question 1\n",
    "    \n",
    "Why do we need control structures and conditionals? Name one scenario we've encountered in previous assignments that could have benefitted from the use of these things. How would it have helped?"
   ]
  },
  {
   "cell_type": "markdown",
   "metadata": {},
   "source": [
    "I think structures and conditional help keep organize and direct the flow of a the code so certain things only run if the statement is True. That way we have into a account that things might change in the future, this will make the code more versitile and make it less repetible. \n",
    "In week 2 lab 1 we had a question : b. Use del to delete all numbers divisible by 2, 3, 4 and 5. Print the list. I think this example would of flow much better with a loop and an if statemenet because the loop would of gone element by element and deleted the one that fit the criteria instead having to print the index of each element over and over again. "
   ]
  },
  {
   "cell_type": "markdown",
   "metadata": {},
   "source": [
    "# Exercise 1\n",
    "\n",
    "Given the input variable, write conditional statements to return True if an element:\n",
    "* contains a string longer than 30.\n",
    "* is a number greater than 30.\n",
    "* is a string less than 30 characters containing a number.\n",
    "* otherwise store the value to a list."
   ]
  },
  {
   "cell_type": "code",
   "execution_count": 31,
   "metadata": {},
   "outputs": [
    {
     "name": "stdout",
     "output_type": "stream",
     "text": [
      "'bbsdbajkdbajajdajdbajbdjabdajbdjabdjabj56\"\n",
      "string is shorted than 30\n"
     ]
    }
   ],
   "source": [
    "s = input()\n",
    "\n",
    "new_list = []\n",
    "\n",
    "if type(element) == int:\n",
    "    if element > 30:\n",
    "        print(\"element is a number bigger than 30\")\n",
    "elif type(s) == str:\n",
    "    if len(element) > 30:\n",
    "        print(\"string is longer than 30\")\n",
    "    elif s.isalnum() == True and len(s) < 30:\n",
    "        print(\"string is less than 30 and contains a number\")\n",
    "    else:\n",
    "        print(\"string is shorted than 30\")\n",
    "else:\n",
    "    new_list.append\n",
    "        \n",
    "# l = []ajbdjabdj\n",
    "# if s.isalpha() == True:\n",
    "#     if len(s) < 30:\n",
    "#         print('string length is less than 30')\n",
    "#     else:\n",
    "#         print('string length is greater than 30')\n",
    "# elif s.isdigit() == True:\n",
    "#     if int(s) < 30:\n",
    "#         print('value is less than 30')\n",
    "#     elif int(s) > 30:        \n",
    "#         print('value is greater than 30')\n",
    "# elif s.isalnum() == True and len(s) < 30:\n",
    "#     print('string is alphanumeric, less than 30'\n",
    "# else:\n",
    "#   l.append(s)  s.isalnum() == True and "
   ]
  },
  {
   "cell_type": "code",
   "execution_count": 25,
   "metadata": {},
   "outputs": [
    {
     "data": {
      "text/plain": [
       "57"
      ]
     },
     "execution_count": 25,
     "metadata": {},
     "output_type": "execute_result"
    }
   ],
   "source": [
    "len(\"bhjsdbhddsbajfbjakbfkjabfjkbfjbasjbjkafbjkabfkjafbajbfjab\")"
   ]
  },
  {
   "cell_type": "code",
   "execution_count": null,
   "metadata": {},
   "outputs": [],
   "source": []
  },
  {
   "cell_type": "markdown",
   "metadata": {},
   "source": [
    "# Exercise 2\n",
    "\n",
    "Create a \"switch\" statement that takes a number and prints \"fizz\" if the number is greater than 0 **and** even, \"buzz\" if greater than 0 and odd, an absolute value of the number if negative, \"ZERO\" if 0 and \"not a number\" otherwise. \n"
   ]
  },
  {
   "cell_type": "code",
   "execution_count": null,
   "metadata": {},
   "outputs": [],
   "source": []
  },
  {
   "cell_type": "markdown",
   "metadata": {},
   "source": [
    "# Exercise 3\n",
    "\n",
    "Using the following code. Write an if statement that takes the `value` returned by the `random_function` and does the following:\n",
    "* print \"true\" if False\n",
    "* print \"false\" if True,\n",
    "* sorts a string and prints it if the string is all lowercase\n",
    "* prints \"one char\" if there's a single uppercase character\n",
    "* prints \"string\" if the other two don't apply (hint: nest)\n",
    "* append the value to a list if a number greater or equal to 0.\n",
    "* add the absolute value of a negative number to a sum\n"
   ]
  },
  {
   "cell_type": "code",
   "execution_count": 13,
   "metadata": {},
   "outputs": [],
   "source": [
    "import random \n",
    "import string\n",
    "def random_string():\n",
    "    letters = string.ascii_letters\n",
    "    r = [random.choice(letters) for i in range(4)]\n",
    "    return \"\".join(r)\n",
    "def random_number():\n",
    "    return random.randint(-1000,1000)\n",
    "def random_bool():\n",
    "    return bool(random.randint(0,1))\n",
    "def random_function():\n",
    "    s = {\n",
    "        0: random_string(),\n",
    "        1: random_number(), \n",
    "        2: random_bool(),\n",
    "    }\n",
    "    return s[random.randint(0, 2)]"
   ]
  },
  {
   "cell_type": "code",
   "execution_count": 14,
   "metadata": {},
   "outputs": [
    {
     "name": "stdout",
     "output_type": "stream",
     "text": [
      "437\n"
     ]
    }
   ],
   "source": [
    "value = random_function()\n",
    "print(value)"
   ]
  },
  {
   "cell_type": "code",
   "execution_count": 400,
   "metadata": {},
   "outputs": [],
   "source": [
    "#put your code here:"
   ]
  }
 ],
 "metadata": {
  "kernelspec": {
   "display_name": "Python 3",
   "language": "python",
   "name": "python3"
  },
  "language_info": {
   "codemirror_mode": {
    "name": "ipython",
    "version": 3
   },
   "file_extension": ".py",
   "mimetype": "text/x-python",
   "name": "python",
   "nbconvert_exporter": "python",
   "pygments_lexer": "ipython3",
   "version": "3.8.3"
  }
 },
 "nbformat": 4,
 "nbformat_minor": 4
}
