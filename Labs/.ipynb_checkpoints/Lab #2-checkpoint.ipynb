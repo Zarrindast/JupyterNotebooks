{
 "cells": [
  {
   "cell_type": "markdown",
   "metadata": {},
   "source": [
    "<div style=\"background: #000;\n",
    "            color: #FFF;\n",
    "            margin: 0px;\n",
    "                padding: 10px 0px 20px 0px;\n",
    "            text-align: center; \n",
    "                \">\n",
    "    <h1>Lab</h1>\n",
    "</div>\n"
   ]
  },
  {
   "cell_type": "markdown",
   "metadata": {},
   "source": [
    "### Question 1: \n",
    "\n",
    "Explain data types in your own words.\n",
    "There are 4 major data types: Sring, Integer, Boolean and Float. A string is any character or sentence in between quotation marks (\"\"). Integers are whole numbers and floats are decimals (example 5.6). Lastly, boolen variables have two values: true and false. Booleans are often used to control the flow of the program since the answer to this statements might determine the outputs. "
   ]
  },
  {
   "cell_type": "markdown",
   "metadata": {},
   "source": [
    "Markdown and LaTeX:  𝛼2"
   ]
  },
  {
   "cell_type": "markdown",
   "metadata": {},
   "source": [
    "### Exercise 1:\n",
    "\n",
    "Store your first name, in lowercase, in a variable.\n",
    "Using that one variable, print your name in lowercase, Titlecase, and UPPERCASE.\n"
   ]
  },
  {
   "cell_type": "code",
   "execution_count": 4,
   "metadata": {},
   "outputs": [
    {
     "name": "stdout",
     "output_type": "stream",
     "text": [
      "clariza\n",
      "Clariza\n",
      "CLARIZA\n"
     ]
    }
   ],
   "source": [
    "name = \"clariza\"\n",
    "print(name)\n",
    "name_title = name.title()\n",
    "print(name_title)\n",
    "name_uppercase = name.upper()\n",
    "print(name_uppercase)"
   ]
  },
  {
   "cell_type": "markdown",
   "metadata": {},
   "source": [
    "### Exercise 2:\n",
    "\n",
    "Find a quote that you like. Store the quote in a variable, with an appropriate introduction such as \"Ken Thompson once said, 'One of my most productive days was throwing away 1000 lines of code'\". Print the quote 1000 times."
   ]
  },
  {
   "cell_type": "code",
   "execution_count": 6,
   "metadata": {},
   "outputs": [
    {
     "name": "stdout",
     "output_type": "stream",
     "text": [
      "Dolly Parton once said, 'The way I see it, if you want the rainbow, you gotta put up with the rain.'\n",
      "Dolly Parton once said, 'The way I see it, if you want the rainbow, you gotta put up with the rain.'\n",
      "Dolly Parton once said, 'The way I see it, if you want the rainbow, you gotta put up with the rain.'\n",
      "Dolly Parton once said, 'The way I see it, if you want the rainbow, you gotta put up with the rain.'\n",
      "Dolly Parton once said, 'The way I see it, if you want the rainbow, you gotta put up with the rain.'\n",
      "Dolly Parton once said, 'The way I see it, if you want the rainbow, you gotta put up with the rain.'\n",
      "Dolly Parton once said, 'The way I see it, if you want the rainbow, you gotta put up with the rain.'\n",
      "Dolly Parton once said, 'The way I see it, if you want the rainbow, you gotta put up with the rain.'\n",
      "Dolly Parton once said, 'The way I see it, if you want the rainbow, you gotta put up with the rain.'\n",
      "Dolly Parton once said, 'The way I see it, if you want the rainbow, you gotta put up with the rain.'\n",
      "Dolly Parton once said, 'The way I see it, if you want the rainbow, you gotta put up with the rain.'\n",
      "Dolly Parton once said, 'The way I see it, if you want the rainbow, you gotta put up with the rain.'\n",
      "Dolly Parton once said, 'The way I see it, if you want the rainbow, you gotta put up with the rain.'\n",
      "Dolly Parton once said, 'The way I see it, if you want the rainbow, you gotta put up with the rain.'\n",
      "Dolly Parton once said, 'The way I see it, if you want the rainbow, you gotta put up with the rain.'\n",
      "Dolly Parton once said, 'The way I see it, if you want the rainbow, you gotta put up with the rain.'\n",
      "Dolly Parton once said, 'The way I see it, if you want the rainbow, you gotta put up with the rain.'\n",
      "Dolly Parton once said, 'The way I see it, if you want the rainbow, you gotta put up with the rain.'\n",
      "Dolly Parton once said, 'The way I see it, if you want the rainbow, you gotta put up with the rain.'\n",
      "Dolly Parton once said, 'The way I see it, if you want the rainbow, you gotta put up with the rain.'\n",
      "Dolly Parton once said, 'The way I see it, if you want the rainbow, you gotta put up with the rain.'\n",
      "Dolly Parton once said, 'The way I see it, if you want the rainbow, you gotta put up with the rain.'\n",
      "Dolly Parton once said, 'The way I see it, if you want the rainbow, you gotta put up with the rain.'\n",
      "Dolly Parton once said, 'The way I see it, if you want the rainbow, you gotta put up with the rain.'\n",
      "Dolly Parton once said, 'The way I see it, if you want the rainbow, you gotta put up with the rain.'\n",
      "Dolly Parton once said, 'The way I see it, if you want the rainbow, you gotta put up with the rain.'\n",
      "Dolly Parton once said, 'The way I see it, if you want the rainbow, you gotta put up with the rain.'\n",
      "Dolly Parton once said, 'The way I see it, if you want the rainbow, you gotta put up with the rain.'\n",
      "Dolly Parton once said, 'The way I see it, if you want the rainbow, you gotta put up with the rain.'\n",
      "Dolly Parton once said, 'The way I see it, if you want the rainbow, you gotta put up with the rain.'\n",
      "Dolly Parton once said, 'The way I see it, if you want the rainbow, you gotta put up with the rain.'\n",
      "Dolly Parton once said, 'The way I see it, if you want the rainbow, you gotta put up with the rain.'\n",
      "Dolly Parton once said, 'The way I see it, if you want the rainbow, you gotta put up with the rain.'\n",
      "Dolly Parton once said, 'The way I see it, if you want the rainbow, you gotta put up with the rain.'\n",
      "Dolly Parton once said, 'The way I see it, if you want the rainbow, you gotta put up with the rain.'\n",
      "Dolly Parton once said, 'The way I see it, if you want the rainbow, you gotta put up with the rain.'\n",
      "Dolly Parton once said, 'The way I see it, if you want the rainbow, you gotta put up with the rain.'\n",
      "Dolly Parton once said, 'The way I see it, if you want the rainbow, you gotta put up with the rain.'\n",
      "Dolly Parton once said, 'The way I see it, if you want the rainbow, you gotta put up with the rain.'\n",
      "Dolly Parton once said, 'The way I see it, if you want the rainbow, you gotta put up with the rain.'\n",
      "Dolly Parton once said, 'The way I see it, if you want the rainbow, you gotta put up with the rain.'\n",
      "Dolly Parton once said, 'The way I see it, if you want the rainbow, you gotta put up with the rain.'\n",
      "Dolly Parton once said, 'The way I see it, if you want the rainbow, you gotta put up with the rain.'\n",
      "Dolly Parton once said, 'The way I see it, if you want the rainbow, you gotta put up with the rain.'\n",
      "Dolly Parton once said, 'The way I see it, if you want the rainbow, you gotta put up with the rain.'\n",
      "Dolly Parton once said, 'The way I see it, if you want the rainbow, you gotta put up with the rain.'\n",
      "Dolly Parton once said, 'The way I see it, if you want the rainbow, you gotta put up with the rain.'\n",
      "Dolly Parton once said, 'The way I see it, if you want the rainbow, you gotta put up with the rain.'\n",
      "Dolly Parton once said, 'The way I see it, if you want the rainbow, you gotta put up with the rain.'\n",
      "Dolly Parton once said, 'The way I see it, if you want the rainbow, you gotta put up with the rain.'\n",
      "Dolly Parton once said, 'The way I see it, if you want the rainbow, you gotta put up with the rain.'\n",
      "Dolly Parton once said, 'The way I see it, if you want the rainbow, you gotta put up with the rain.'\n",
      "Dolly Parton once said, 'The way I see it, if you want the rainbow, you gotta put up with the rain.'\n",
      "Dolly Parton once said, 'The way I see it, if you want the rainbow, you gotta put up with the rain.'\n",
      "Dolly Parton once said, 'The way I see it, if you want the rainbow, you gotta put up with the rain.'\n",
      "Dolly Parton once said, 'The way I see it, if you want the rainbow, you gotta put up with the rain.'\n",
      "Dolly Parton once said, 'The way I see it, if you want the rainbow, you gotta put up with the rain.'\n",
      "Dolly Parton once said, 'The way I see it, if you want the rainbow, you gotta put up with the rain.'\n",
      "Dolly Parton once said, 'The way I see it, if you want the rainbow, you gotta put up with the rain.'\n",
      "Dolly Parton once said, 'The way I see it, if you want the rainbow, you gotta put up with the rain.'\n",
      "Dolly Parton once said, 'The way I see it, if you want the rainbow, you gotta put up with the rain.'\n",
      "Dolly Parton once said, 'The way I see it, if you want the rainbow, you gotta put up with the rain.'\n",
      "Dolly Parton once said, 'The way I see it, if you want the rainbow, you gotta put up with the rain.'\n",
      "Dolly Parton once said, 'The way I see it, if you want the rainbow, you gotta put up with the rain.'\n",
      "Dolly Parton once said, 'The way I see it, if you want the rainbow, you gotta put up with the rain.'\n",
      "Dolly Parton once said, 'The way I see it, if you want the rainbow, you gotta put up with the rain.'\n",
      "Dolly Parton once said, 'The way I see it, if you want the rainbow, you gotta put up with the rain.'\n",
      "Dolly Parton once said, 'The way I see it, if you want the rainbow, you gotta put up with the rain.'\n",
      "Dolly Parton once said, 'The way I see it, if you want the rainbow, you gotta put up with the rain.'\n",
      "Dolly Parton once said, 'The way I see it, if you want the rainbow, you gotta put up with the rain.'\n",
      "Dolly Parton once said, 'The way I see it, if you want the rainbow, you gotta put up with the rain.'\n",
      "Dolly Parton once said, 'The way I see it, if you want the rainbow, you gotta put up with the rain.'\n",
      "Dolly Parton once said, 'The way I see it, if you want the rainbow, you gotta put up with the rain.'\n",
      "Dolly Parton once said, 'The way I see it, if you want the rainbow, you gotta put up with the rain.'\n",
      "Dolly Parton once said, 'The way I see it, if you want the rainbow, you gotta put up with the rain.'\n",
      "Dolly Parton once said, 'The way I see it, if you want the rainbow, you gotta put up with the rain.'\n",
      "Dolly Parton once said, 'The way I see it, if you want the rainbow, you gotta put up with the rain.'\n",
      "Dolly Parton once said, 'The way I see it, if you want the rainbow, you gotta put up with the rain.'\n",
      "Dolly Parton once said, 'The way I see it, if you want the rainbow, you gotta put up with the rain.'\n",
      "Dolly Parton once said, 'The way I see it, if you want the rainbow, you gotta put up with the rain.'\n",
      "Dolly Parton once said, 'The way I see it, if you want the rainbow, you gotta put up with the rain.'\n",
      "Dolly Parton once said, 'The way I see it, if you want the rainbow, you gotta put up with the rain.'\n",
      "Dolly Parton once said, 'The way I see it, if you want the rainbow, you gotta put up with the rain.'\n",
      "Dolly Parton once said, 'The way I see it, if you want the rainbow, you gotta put up with the rain.'\n",
      "Dolly Parton once said, 'The way I see it, if you want the rainbow, you gotta put up with the rain.'\n",
      "Dolly Parton once said, 'The way I see it, if you want the rainbow, you gotta put up with the rain.'\n",
      "Dolly Parton once said, 'The way I see it, if you want the rainbow, you gotta put up with the rain.'\n",
      "Dolly Parton once said, 'The way I see it, if you want the rainbow, you gotta put up with the rain.'\n",
      "Dolly Parton once said, 'The way I see it, if you want the rainbow, you gotta put up with the rain.'\n",
      "Dolly Parton once said, 'The way I see it, if you want the rainbow, you gotta put up with the rain.'\n",
      "Dolly Parton once said, 'The way I see it, if you want the rainbow, you gotta put up with the rain.'\n",
      "Dolly Parton once said, 'The way I see it, if you want the rainbow, you gotta put up with the rain.'\n",
      "Dolly Parton once said, 'The way I see it, if you want the rainbow, you gotta put up with the rain.'\n",
      "Dolly Parton once said, 'The way I see it, if you want the rainbow, you gotta put up with the rain.'\n",
      "Dolly Parton once said, 'The way I see it, if you want the rainbow, you gotta put up with the rain.'\n",
      "Dolly Parton once said, 'The way I see it, if you want the rainbow, you gotta put up with the rain.'\n",
      "Dolly Parton once said, 'The way I see it, if you want the rainbow, you gotta put up with the rain.'\n",
      "Dolly Parton once said, 'The way I see it, if you want the rainbow, you gotta put up with the rain.'\n",
      "Dolly Parton once said, 'The way I see it, if you want the rainbow, you gotta put up with the rain.'\n",
      "Dolly Parton once said, 'The way I see it, if you want the rainbow, you gotta put up with the rain.'\n"
     ]
    }
   ],
   "source": [
    "quote = \"Dolly Parton once said, 'The way I see it, if you want the rainbow, you gotta put up with the rain.'\"\n",
    "for n in range(100):\n",
    "    print(quote)"
   ]
  },
  {
   "cell_type": "markdown",
   "metadata": {},
   "source": [
    "### Exercise 3:\n",
    "\n",
    "Use python string operations and methods to use the following variables to print this:\n",
    "\n",
    "    \"hello world\""
   ]
  },
  {
   "cell_type": "code",
   "execution_count": 15,
   "metadata": {},
   "outputs": [
    {
     "name": "stdout",
     "output_type": "stream",
     "text": [
      "hello world\n"
     ]
    }
   ],
   "source": [
    "message_1 = \"hELlo\"\n",
    "message_2 = \"                              wor\"\n",
    "message_3 = \" \"\n",
    "message_1_lower = message_1.lower()\n",
    "new_message_2 = message_2.lstrip()\n",
    "new_string = message_1_lower + message_3 + new_message_2 + \"ld\"\n",
    "print (new_string)"
   ]
  },
  {
   "cell_type": "code",
   "execution_count": 16,
   "metadata": {},
   "outputs": [],
   "source": [
    "import random, string\n"
   ]
  },
  {
   "cell_type": "markdown",
   "metadata": {},
   "source": [
    "### Exercise 4\n",
    "\n",
    "Fix the following code so it prints properly"
   ]
  },
  {
   "cell_type": "code",
   "execution_count": null,
   "metadata": {},
   "outputs": [],
   "source": [
    "# Dollar amounts should only have two digits after the decimal\n",
    "print(\"The price is $%.5f.\" % (3.44444))"
   ]
  },
  {
   "cell_type": "code",
   "execution_count": null,
   "metadata": {},
   "outputs": [],
   "source": [
    "print(\"{name} is learning\".format() )"
   ]
  },
  {
   "cell_type": "code",
   "execution_count": null,
   "metadata": {},
   "outputs": [],
   "source": []
  },
  {
   "cell_type": "markdown",
   "metadata": {},
   "source": [
    "### Exercise 5\n",
    "\n",
    "Create your own mad-lib with at least 5 inputs."
   ]
  }
 ],
 "metadata": {
  "kernelspec": {
   "display_name": "Python 3",
   "language": "python",
   "name": "python3"
  },
  "language_info": {
   "codemirror_mode": {
    "name": "ipython",
    "version": 3
   },
   "file_extension": ".py",
   "mimetype": "text/x-python",
   "name": "python",
   "nbconvert_exporter": "python",
   "pygments_lexer": "ipython3",
   "version": "3.8.3"
  }
 },
 "nbformat": 4,
 "nbformat_minor": 4
}
